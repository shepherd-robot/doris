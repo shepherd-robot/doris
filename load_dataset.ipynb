{
 "cells": [
  {
   "cell_type": "markdown",
   "metadata": {
    "colab_type": "text",
    "id": "view-in-github"
   },
   "source": [
    "<a href=\"https://colab.research.google.com/github/TheSmileXiao/TFM/blob/main/code/load_example.ipynb\" target=\"_parent\"><img src=\"https://colab.research.google.com/assets/colab-badge.svg\" alt=\"Open In Colab\"/></a>"
   ]
  },
  {
   "cell_type": "markdown",
   "metadata": {
    "id": "RZuaWBlKR6cS"
   },
   "source": [
    "## Install packages and import"
   ]
  },
  {
   "cell_type": "code",
   "execution_count": null,
   "metadata": {
    "id": "RbBTFWa790xh"
   },
   "outputs": [],
   "source": [
    "!pip install ultralytics"
   ]
  },
  {
   "cell_type": "code",
   "execution_count": null,
   "metadata": {
    "id": "dDakO0lK97aI"
   },
   "outputs": [],
   "source": [
    "import zipfile\n",
    "import os\n",
    "import shutil\n",
    "from ultralytics          import YOLO\n",
    "from google.colab         import drive\n",
    "import random\n",
    "import tqdm"
   ]
  },
  {
   "cell_type": "markdown",
   "metadata": {
    "id": "8IYmdCgiWTpw"
   },
   "source": [
    "## Build YOLO_DATASET (with all images randomly distributed)"
   ]
  },
  {
   "cell_type": "code",
   "execution_count": null,
   "metadata": {
    "id": "T8o2nBYZ9-9m"
   },
   "outputs": [],
   "source": [
    "path_file_zip = 'PATH/YOLO.zip' ## Dataset path https://zenodo.org/records/11313165\n",
    "path_destiny = './'\n",
    "with zipfile.ZipFile(path_file_zip, 'r') as file_zip:\n",
    "    # Extract the desired file to the destiny path\n",
    "    file_zip.extractall(path_destiny)"
   ]
  },
  {
   "cell_type": "code",
   "execution_count": null,
   "metadata": {
    "id": "uOAXZ7eORvkW"
   },
   "outputs": [],
   "source": [
    "path_file_zip = 'PATH/Sheep.zip'  ## Image Dataset path https://zenodo.org/records/11313800\n",
    "path_destiny = './'\n",
    "with zipfile.ZipFile(path_file_zip, 'r') as file_zip:\n",
    "    # Extract the desired file to the destiny path\n",
    "    file_zip.extractall(path_destiny)"
   ]
  },
  {
   "cell_type": "code",
   "execution_count": null,
   "metadata": {},
   "outputs": [],
   "source": [
    "path_file_zip = 'PATH/Person.zip'  ## Image Dataset path https://zenodo.org/records/11313966\n",
    "path_destiny = './'\n",
    "with zipfile.ZipFile(path_file_zip, 'r') as file_zip:\n",
    "    # Extract the desired file to the destiny path\n",
    "    file_zip.extractall(path_destiny)"
   ]
  },
  {
   "cell_type": "code",
   "execution_count": null,
   "metadata": {},
   "outputs": [],
   "source": [
    "path_file_zip = 'PATH/Wolf.zip'  ## Image Dataset path https://zenodo.org/records/11313966\n",
    "path_destiny = './'\n",
    "with zipfile.ZipFile(path_file_zip, 'r') as file_zip:\n",
    "    # Extract the desired file to the destiny path\n",
    "    file_zip.extractall(path_destiny)"
   ]
  },
  {
   "cell_type": "code",
   "execution_count": null,
   "metadata": {},
   "outputs": [],
   "source": [
    "img_dir = 'PATH/images'\n",
    "labels_dir = 'PATH/annotation'\n",
    "dst_dir = 'PATH/yolo_dataset'\n",
    "def build_dataset(img_dir, labels_dir, dst_dir, train_size=0.7, val_size=0.2, test_size=0.1):  \n",
    "  random.seed(42)\n",
    "  imgs = os.listdir(img_dir)\n",
    "  random.shuffle(imgs)\n",
    "  length = len(imgs)\n",
    "\n",
    "  train_end = int(train_size * length)\n",
    "  val_end = train_end + int(val_size * length)\n",
    "\n",
    "  train_imgs = imgs[:train_end]\n",
    "  val_imgs = imgs[train_end:val_end]\n",
    "  test_imgs = imgs[val_end:]\n",
    "\n",
    "  for img in [img for img in train_imgs if img.endswith('.jpg')]:\n",
    "    shutil.copy(os.path.join(img_dir, img), os.path.join(dst_dir, 'images/train'))\n",
    "    shutil.copy(os.path.join(labels_dir, f\"{img.split('.')[0]}.txt\"), os.path.join(dst_dir, 'labels/train'))\n",
    "  print(f'{train_end} images have been move.')\n",
    "  for img in [img for img in val_imgs if img.endswith('.jpg')]:\n",
    "    shutil.copy(os.path.join(img_dir, img), os.path.join(dst_dir, 'images/val'))\n",
    "    shutil.copy(os.path.join(labels_dir, f\"{img.split('.')[0]}.txt\"), os.path.join(dst_dir, 'labels/val'))\n",
    "  print(f'{val_end-train_end} images have been move.')\n",
    "  for img in [img for img in test_imgs if img.endswith('.jpg')]:\n",
    "    shutil.copy(os.path.join(img_dir, img), os.path.join(dst_dir, 'images/test'))\n",
    "    shutil.copy(os.path.join(labels_dir, f\"{img.split('.')[0]}.txt\"), os.path.join(dst_dir, 'labels/test'))\n",
    "  print(f'{length-val_end} images have been move.')\n",
    "\n",
    "build_dataset(img_dir, labels_dir, dst_dir)"
   ]
  },
  {
   "cell_type": "markdown",
   "metadata": {
    "id": "KGO8M2M0WnYo"
   },
   "source": [
    "## Build YOLO_DATASET (the images are distributed by videos)"
   ]
  },
  {
   "cell_type": "code",
   "execution_count": null,
   "metadata": {
    "id": "77VKMri3WnYo"
   },
   "outputs": [],
   "source": [
    "path_file_zip = 'PATH/video_yolo_dataset.zip'\n",
    "path_destiny = './'\n",
    "with zipfile.ZipFile(path_file_zip, 'r') as file_zip:\n",
    "    # Extract the desired file to the destiny path\n",
    "    file_zip.extractall(path_destiny)"
   ]
  },
  {
   "cell_type": "code",
   "execution_count": null,
   "metadata": {
    "id": "8KmhSDK9WnYo"
   },
   "outputs": [],
   "source": [
    "img_dir = 'PATH/images'\n",
    "labels_dir = 'PATH/annotation'\n",
    "dst_dir = 'PATH/yolo_dataset'\n",
    "def build_dataset(img_dir, labels_dir, dst_dir, train_size=0.8, val_size=0.2, test_size=0):\n",
    "  random.seed(42)\n",
    "  imgs = os.listdir(img_dir)\n",
    "  random.shuffle(imgs)\n",
    "  length = len(imgs)\n",
    "\n",
    "  train_end = int(train_size * length)\n",
    "  val_end = train_end + int(val_size * length)\n",
    "\n",
    "  train_imgs = imgs[:train_end]\n",
    "  val_imgs = imgs[train_end:val_end]\n",
    "  test_imgs = imgs[val_end:]\n",
    "\n",
    "  for img in [img for img in train_imgs if img.endswith('.jpg')]:\n",
    "    shutil.copy(os.path.join(img_dir, img), os.path.join(dst_dir, 'images/train'))\n",
    "    shutil.copy(os.path.join(labels_dir, f\"{img.split('.')[0]}.txt\"), os.path.join(dst_dir, 'labels/train'))\n",
    "  print(f'{train_end} images have been move.')\n",
    "  for img in [img for img in val_imgs if img.endswith('.jpg')]:\n",
    "    shutil.copy(os.path.join(img_dir, img), os.path.join(dst_dir, 'images/val'))\n",
    "    shutil.copy(os.path.join(labels_dir, f\"{img.split('.')[0]}.txt\"), os.path.join(dst_dir, 'labels/val'))\n",
    "  print(f'{val_end-train_end} images have been move.')\n",
    "  for img in [img for img in test_imgs if img.endswith('.jpg')]:\n",
    "    shutil.copy(os.path.join(img_dir, img), os.path.join(dst_dir, 'images/test'))\n",
    "    shutil.copy(os.path.join(labels_dir, f\"{img.split('.')[0]}.txt\"), os.path.join(dst_dir, 'labels/test'))\n",
    "  print(f'{length-val_end} images have been move.')\n",
    "\n",
    "build_dataset(img_dir, labels_dir, dst_dir)"
   ]
  }
 ],
 "metadata": {
  "accelerator": "GPU",
  "colab": {
   "gpuType": "T4",
   "include_colab_link": true,
   "machine_shape": "hm",
   "provenance": []
  },
  "kernelspec": {
   "display_name": "Python 3 (ipykernel)",
   "language": "python",
   "name": "python3"
  },
  "language_info": {
   "codemirror_mode": {
    "name": "ipython",
    "version": 3
   },
   "file_extension": ".py",
   "mimetype": "text/x-python",
   "name": "python",
   "nbconvert_exporter": "python",
   "pygments_lexer": "ipython3",
   "version": "3.8.8"
  }
 },
 "nbformat": 4,
 "nbformat_minor": 1
}
